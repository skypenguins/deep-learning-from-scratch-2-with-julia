{
 "cells": [
  {
   "cell_type": "markdown",
   "metadata": {},
   "source": [
    "### 2.4.4 PTBデータセット"
   ]
  },
  {
   "cell_type": "code",
   "execution_count": 1,
   "metadata": {},
   "outputs": [],
   "source": [
    "include(\"../dataset/ptb.jl\")"
   ]
  },
  {
   "cell_type": "code",
   "execution_count": 2,
   "metadata": {},
   "outputs": [
    {
     "data": {
      "text/plain": [
       "([1, 2, 3, 4, 5, 6, 7, 8, 9, 10  …  1144, 70, 553, 918, 3197, 259, 65, 40, 27, 25], Dict{Any,Any}(\"adviser\" => 903,\"enjoy\" => 5596,\"advertisements\" => 2605,\"fight\" => 520,\"nicholas\" => 4062,\"everywhere\" => 4533,\"surveyed\" => 2220,\"helping\" => 3011,\"whose\" => 1007,\"manufacture\" => 1072…), Dict{Any,Any}(9366 => \"cairo\",2843 => \"nature\",4495 => \"satisfaction\",6928 => \"danger\",9905 => \"jackets\",6380 => \"reaching\",1316 => \"unauthorized\",6265 => \"unanticipated\",5459 => \"disclose\",5842 => \"discontinued\"…))"
      ]
     },
     "execution_count": 2,
     "metadata": {},
     "output_type": "execute_result"
    }
   ],
   "source": [
    "corpus, word_to_id, id_to_word = load_data(data_type=\"train\")"
   ]
  },
  {
   "cell_type": "code",
   "execution_count": 3,
   "metadata": {},
   "outputs": [
    {
     "name": "stdout",
     "output_type": "stream",
     "text": [
      "corpus size: 929589\n",
      "corpus[:30]: [1, 2, 3, 4, 5, 6, 7, 8, 9, 10, 11, 12, 13, 14, 15, 16, 17, 18, 19, 20, 21, 22, 23, 24, 25, 26, 27, 28, 29, 30]\n"
     ]
    }
   ],
   "source": [
    "println(\"corpus size: \", length(corpus))\n",
    "println(\"corpus[:30]: \", corpus[begin:30])"
   ]
  },
  {
   "cell_type": "code",
   "execution_count": 4,
   "metadata": {},
   "outputs": [
    {
     "name": "stdout",
     "output_type": "stream",
     "text": [
      "id_to_word[1]: aer\n",
      "id_to_word[2]: banknote\n",
      "id_to_word[3]: berlitz\n"
     ]
    }
   ],
   "source": [
    "println(\"id_to_word[1]: \", id_to_word[1])\n",
    "println(\"id_to_word[2]: \", id_to_word[2])\n",
    "println(\"id_to_word[3]: \", id_to_word[3])"
   ]
  },
  {
   "cell_type": "code",
   "execution_count": 5,
   "metadata": {},
   "outputs": [
    {
     "name": "stdout",
     "output_type": "stream",
     "text": [
      "word_to_id[\"car\"]: 3857\n",
      "word_to_id[\"happy\"]: 4429\n",
      "word_to_id[\"lexus\"]: 7427\n"
     ]
    }
   ],
   "source": [
    "println(\"word_to_id[\\\"car\\\"]: \", word_to_id[\"car\"])\n",
    "println(\"word_to_id[\\\"happy\\\"]: \", word_to_id[\"happy\"])\n",
    "println(\"word_to_id[\\\"lexus\\\"]: \", word_to_id[\"lexus\"])"
   ]
  }
 ],
 "metadata": {
  "kernelspec": {
   "display_name": "Julia 1.5.2",
   "language": "julia",
   "name": "julia-1.5"
  },
  "language_info": {
   "file_extension": ".jl",
   "mimetype": "application/julia",
   "name": "julia",
   "version": "1.5.2"
  }
 },
 "nbformat": 4,
 "nbformat_minor": 4
}
