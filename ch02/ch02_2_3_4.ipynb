{
 "cells": [
  {
   "cell_type": "markdown",
   "metadata": {},
   "source": [
    "### 2.3.4 共起行列"
   ]
  },
  {
   "cell_type": "code",
   "execution_count": 1,
   "metadata": {},
   "outputs": [
    {
     "data": {
      "text/plain": [
       "ppmi (generic function with 1 method)"
      ]
     },
     "execution_count": 1,
     "metadata": {},
     "output_type": "execute_result"
    }
   ],
   "source": [
    "include(\"../common/util.jl\")"
   ]
  },
  {
   "cell_type": "code",
   "execution_count": 2,
   "metadata": {},
   "outputs": [
    {
     "data": {
      "text/plain": [
       "([1, 2, 3, 4, 5, 2, 6, 7], Dict{Any,Any}(\"say\" => 2,\"goodbye\" => 3,\"you\" => 1,\"hello\" => 6,\".\" => 7,\"and\" => 4,\"i\" => 5), Dict{Any,Any}(7 => \".\",4 => \"and\",2 => \"say\",3 => \"goodbye\",5 => \"i\",6 => \"hello\",1 => \"you\"))"
      ]
     },
     "execution_count": 2,
     "metadata": {},
     "output_type": "execute_result"
    }
   ],
   "source": [
    "text = \"You say goodbye and I say hello.\"\n",
    "corpus, word_to_id, id_to_word = preprocess(text)"
   ]
  },
  {
   "cell_type": "code",
   "execution_count": 3,
   "metadata": {},
   "outputs": [
    {
     "name": "stdout",
     "output_type": "stream",
     "text": [
      "[1, 2, 3, 4, 5, 2, 6, 7]\n"
     ]
    }
   ],
   "source": [
    "println(corpus)"
   ]
  },
  {
   "cell_type": "code",
   "execution_count": 4,
   "metadata": {},
   "outputs": [
    {
     "name": "stdout",
     "output_type": "stream",
     "text": [
      "Dict{Any,Any}(7 => \".\",4 => \"and\",2 => \"say\",3 => \"goodbye\",5 => \"i\",6 => \"hello\",1 => \"you\")\n"
     ]
    }
   ],
   "source": [
    "println(id_to_word)"
   ]
  },
  {
   "cell_type": "code",
   "execution_count": 5,
   "metadata": {},
   "outputs": [
    {
     "data": {
      "text/plain": [
       "7×7 Array{Int64,2}:\n",
       " 0  1  0  0  0  0  0\n",
       " 1  0  1  0  1  1  0\n",
       " 0  1  0  1  0  0  0\n",
       " 0  0  1  0  1  0  0\n",
       " 0  1  0  1  0  0  0\n",
       " 0  1  0  0  0  0  1\n",
       " 0  0  0  0  0  1  0"
      ]
     },
     "execution_count": 5,
     "metadata": {},
     "output_type": "execute_result"
    }
   ],
   "source": [
    "C = [0 1 0 0 0 0 0;\n",
    "     1 0 1 0 1 1 0;\n",
    "     0 1 0 1 0 0 0;\n",
    "     0 0 1 0 1 0 0;\n",
    "     0 1 0 1 0 0 0;\n",
    "     0 1 0 0 0 0 1;\n",
    "     0 0 0 0 0 1 0]"
   ]
  },
  {
   "cell_type": "code",
   "execution_count": 6,
   "metadata": {},
   "outputs": [
    {
     "name": "stdout",
     "output_type": "stream",
     "text": [
      "[0, 1, 0, 0, 0, 0, 0]\n"
     ]
    }
   ],
   "source": [
    "println(C[1, :])"
   ]
  },
  {
   "cell_type": "code",
   "execution_count": 7,
   "metadata": {},
   "outputs": [
    {
     "name": "stdout",
     "output_type": "stream",
     "text": [
      "[0, 1, 0, 1, 0, 0, 0]\n"
     ]
    }
   ],
   "source": [
    "println(C[5, :])"
   ]
  },
  {
   "cell_type": "code",
   "execution_count": 8,
   "metadata": {},
   "outputs": [
    {
     "name": "stdout",
     "output_type": "stream",
     "text": [
      "[0, 1, 0, 1, 0, 0, 0]\n"
     ]
    }
   ],
   "source": [
    "println(C[word_to_id[\"goodbye\"], :])"
   ]
  },
  {
   "cell_type": "code",
   "execution_count": null,
   "metadata": {},
   "outputs": [],
   "source": []
  }
 ],
 "metadata": {
  "kernelspec": {
   "display_name": "Julia 1.5.2",
   "language": "julia",
   "name": "julia-1.5"
  },
  "language_info": {
   "file_extension": ".jl",
   "mimetype": "application/julia",
   "name": "julia",
   "version": "1.5.2"
  }
 },
 "nbformat": 4,
 "nbformat_minor": 4
}
