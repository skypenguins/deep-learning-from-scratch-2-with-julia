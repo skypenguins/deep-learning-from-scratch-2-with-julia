{
 "cells": [
  {
   "cell_type": "markdown",
   "metadata": {},
   "source": [
    "### 2.4.1 相互情報量"
   ]
  },
  {
   "cell_type": "code",
   "execution_count": 1,
   "metadata": {
    "scrolled": false
   },
   "outputs": [
    {
     "data": {
      "text/plain": [
       "ppmi (generic function with 1 method)"
      ]
     },
     "execution_count": 1,
     "metadata": {},
     "output_type": "execute_result"
    }
   ],
   "source": [
    "include(\"../common/util.jl\")"
   ]
  },
  {
   "cell_type": "code",
   "execution_count": 2,
   "metadata": {
    "scrolled": false
   },
   "outputs": [
    {
     "data": {
      "text/plain": [
       "7×7 Array{Float64,2}:\n",
       " 0.0      1.80735   0.0       0.0      0.0       0.0       0.0\n",
       " 1.80735  0.0       0.807355  0.0      0.807355  0.807355  0.0\n",
       " 0.0      0.807355  0.0       1.80735  0.0       0.0       0.0\n",
       " 0.0      0.0       1.80735   0.0      1.80735   0.0       0.0\n",
       " 0.0      0.807355  0.0       1.80735  0.0       0.0       0.0\n",
       " 0.0      0.807355  0.0       0.0      0.0       0.0       2.80735\n",
       " 0.0      0.0       0.0       0.0      0.0       2.80735   0.0"
      ]
     },
     "execution_count": 2,
     "metadata": {},
     "output_type": "execute_result"
    }
   ],
   "source": [
    "text = \"You say goodbye and I say hello.\"\n",
    "corpus, word_to_id, id_to_word = preprocess(text)\n",
    "vocab_size = length(word_to_id)\n",
    "C = create_co_matrix(corpus, vocab_size)\n",
    "W = ppmi(C)"
   ]
  },
  {
   "cell_type": "markdown",
   "metadata": {},
   "source": [
    "covariance matrix"
   ]
  },
  {
   "cell_type": "code",
   "execution_count": 3,
   "metadata": {},
   "outputs": [
    {
     "data": {
      "text/plain": [
       "7×7 Array{Int32,2}:\n",
       " 0  1  0  0  0  0  0\n",
       " 1  0  1  0  1  1  0\n",
       " 0  1  0  1  0  0  0\n",
       " 0  0  1  0  1  0  0\n",
       " 0  1  0  1  0  0  0\n",
       " 0  1  0  0  0  0  1\n",
       " 0  0  0  0  0  1  0"
      ]
     },
     "execution_count": 3,
     "metadata": {},
     "output_type": "execute_result"
    }
   ],
   "source": [
    "C"
   ]
  },
  {
   "cell_type": "markdown",
   "metadata": {},
   "source": [
    "PPMI"
   ]
  },
  {
   "cell_type": "code",
   "execution_count": 4,
   "metadata": {},
   "outputs": [
    {
     "data": {
      "text/plain": [
       "7×7 Array{Float64,2}:\n",
       " 0.0      1.80735   0.0       0.0      0.0       0.0       0.0\n",
       " 1.80735  0.0       0.807355  0.0      0.807355  0.807355  0.0\n",
       " 0.0      0.807355  0.0       1.80735  0.0       0.0       0.0\n",
       " 0.0      0.0       1.80735   0.0      1.80735   0.0       0.0\n",
       " 0.0      0.807355  0.0       1.80735  0.0       0.0       0.0\n",
       " 0.0      0.807355  0.0       0.0      0.0       0.0       2.80735\n",
       " 0.0      0.0       0.0       0.0      0.0       2.80735   0.0"
      ]
     },
     "execution_count": 4,
     "metadata": {},
     "output_type": "execute_result"
    }
   ],
   "source": [
    "W"
   ]
  }
 ],
 "metadata": {
  "kernelspec": {
   "display_name": "Julia 1.5.2",
   "language": "julia",
   "name": "julia-1.5"
  },
  "language_info": {
   "file_extension": ".jl",
   "mimetype": "application/julia",
   "name": "julia",
   "version": "1.5.2"
  }
 },
 "nbformat": 4,
 "nbformat_minor": 4
}
