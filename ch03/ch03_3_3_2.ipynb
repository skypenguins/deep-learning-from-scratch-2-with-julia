{
 "cells": [
  {
   "cell_type": "markdown",
   "metadata": {},
   "source": [
    "### 3.3.2 one-hot表現への変換"
   ]
  },
  {
   "cell_type": "code",
   "execution_count": 1,
   "metadata": {},
   "outputs": [
    {
     "data": {
      "text/plain": [
       "convert_one_hot (generic function with 1 method)"
      ]
     },
     "execution_count": 1,
     "metadata": {},
     "output_type": "execute_result"
    }
   ],
   "source": [
    "include(\"../common/util.jl\")"
   ]
  },
  {
   "cell_type": "code",
   "execution_count": 2,
   "metadata": {},
   "outputs": [
    {
     "data": {
      "text/plain": [
       "([1, 2, 3, 4, 5, 2, 6, 7], Dict{Any,Any}(\"say\" => 2,\"goodbye\" => 3,\"you\" => 1,\"hello\" => 6,\".\" => 7,\"and\" => 4,\"i\" => 5), Dict{Any,Any}(7 => \".\",4 => \"and\",2 => \"say\",3 => \"goodbye\",5 => \"i\",6 => \"hello\",1 => \"you\"))"
      ]
     },
     "execution_count": 2,
     "metadata": {},
     "output_type": "execute_result"
    }
   ],
   "source": [
    "text = \"You say goodbye and I say hello.\"\n",
    "corpus, word_to_id, id_to_word = preprocess(text)"
   ]
  },
  {
   "cell_type": "code",
   "execution_count": 3,
   "metadata": {},
   "outputs": [
    {
     "data": {
      "text/plain": [
       "([1 3; 2 4; … ; 5 6; 2 7], [2, 3, 4, 5, 2, 6])"
      ]
     },
     "execution_count": 3,
     "metadata": {},
     "output_type": "execute_result"
    }
   ],
   "source": [
    "contexts, target = create_contexts_target(corpus, window_size=1)"
   ]
  },
  {
   "cell_type": "code",
   "execution_count": 4,
   "metadata": {},
   "outputs": [
    {
     "data": {
      "text/plain": [
       "6×2×7 Array{Int32,3}:\n",
       "[:, :, 1] =\n",
       " 1  0\n",
       " 0  0\n",
       " 0  0\n",
       " 0  0\n",
       " 0  0\n",
       " 0  0\n",
       "\n",
       "[:, :, 2] =\n",
       " 0  0\n",
       " 1  0\n",
       " 0  0\n",
       " 0  1\n",
       " 0  0\n",
       " 1  0\n",
       "\n",
       "[:, :, 3] =\n",
       " 0  1\n",
       " 0  0\n",
       " 1  0\n",
       " 0  0\n",
       " 0  0\n",
       " 0  0\n",
       "\n",
       "[:, :, 4] =\n",
       " 0  0\n",
       " 0  1\n",
       " 0  0\n",
       " 1  0\n",
       " 0  0\n",
       " 0  0\n",
       "\n",
       "[:, :, 5] =\n",
       " 0  0\n",
       " 0  0\n",
       " 0  1\n",
       " 0  0\n",
       " 1  0\n",
       " 0  0\n",
       "\n",
       "[:, :, 6] =\n",
       " 0  0\n",
       " 0  0\n",
       " 0  0\n",
       " 0  0\n",
       " 0  1\n",
       " 0  0\n",
       "\n",
       "[:, :, 7] =\n",
       " 0  0\n",
       " 0  0\n",
       " 0  0\n",
       " 0  0\n",
       " 0  0\n",
       " 0  1"
      ]
     },
     "execution_count": 4,
     "metadata": {},
     "output_type": "execute_result"
    }
   ],
   "source": [
    "vocab_size = length(word_to_id)\n",
    "target = convert_one_hot(target, vocab_size)\n",
    "contexts = convert_one_hot(contexts, vocab_size)"
   ]
  },
  {
   "cell_type": "code",
   "execution_count": 5,
   "metadata": {},
   "outputs": [
    {
     "data": {
      "text/plain": [
       "6×7 Array{Int32,2}:\n",
       " 0  1  0  0  0  0  0\n",
       " 0  0  1  0  0  0  0\n",
       " 0  0  0  1  0  0  0\n",
       " 0  0  0  0  1  0  0\n",
       " 0  1  0  0  0  0  0\n",
       " 0  0  0  0  0  1  0"
      ]
     },
     "execution_count": 5,
     "metadata": {},
     "output_type": "execute_result"
    }
   ],
   "source": [
    "target"
   ]
  },
  {
   "cell_type": "code",
   "execution_count": 6,
   "metadata": {},
   "outputs": [
    {
     "name": "stdout",
     "output_type": "stream",
     "text": [
      "Int32[1 0; 0 0; 0 0; 0 0; 0 0; 0 0]\n",
      "\n",
      "Int32[0 0; 1 0; 0 0; 0 1; 0 0; 1 0]\n",
      "\n",
      "Int32[0 1; 0 0; 1 0; 0 0; 0 0; 0 0]\n",
      "\n",
      "Int32[0 0; 0 1; 0 0; 1 0; 0 0; 0 0]\n",
      "\n",
      "Int32[0 0; 0 0; 0 1; 0 0; 1 0; 0 0]\n",
      "\n",
      "Int32[0 0; 0 0; 0 0; 0 0; 0 1; 0 0]\n",
      "\n",
      "Int32[0 0; 0 0; 0 0; 0 0; 0 0; 0 1]\n"
     ]
    }
   ],
   "source": [
    "println(contexts)"
   ]
  }
 ],
 "metadata": {
  "kernelspec": {
   "display_name": "Julia 1.5.2",
   "language": "julia",
   "name": "julia-1.5"
  },
  "language_info": {
   "file_extension": ".jl",
   "mimetype": "application/julia",
   "name": "julia",
   "version": "1.5.2"
  }
 },
 "nbformat": 4,
 "nbformat_minor": 4
}
