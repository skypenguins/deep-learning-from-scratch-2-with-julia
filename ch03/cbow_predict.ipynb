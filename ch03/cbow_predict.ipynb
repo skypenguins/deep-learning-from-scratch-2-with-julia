{
 "cells": [
  {
   "cell_type": "markdown",
   "metadata": {},
   "source": [
    "### 3.2.1 CBOWモデルの推論処理"
   ]
  },
  {
   "cell_type": "markdown",
   "metadata": {},
   "source": [
    "Python（NumPy）では1次元配列と$1 \\times x$行列は同じ扱いだが，Juliaでは扱いが異なる。  \n",
    "これは配列の扱いがJuliaの列指向とPythonの行指向で異なるためである。  \n",
    "そのため，行指向の設計思想を基に実装されたアルゴリズムを列指向の設計思想で再実装することが理想ではあるが，Python版の行列やテンソルの形状と一致させるため，（あと初心者なので…）無理矢理，行指向の設計思想でコードを実装している。  \n",
    "\n",
    "参考:  \n",
    "> Julia arrays are column major (Fortran ordered) whereas NumPy arrays are row major (C-ordered) by default.  \n",
    "\n",
    "Source: https://docs.julialang.org/en/v1/manual/noteworthy-differences/#Noteworthy-differences-from-Python"
   ]
  },
  {
   "cell_type": "code",
   "execution_count": 1,
   "metadata": {},
   "outputs": [
    {
     "data": {
      "text/plain": [
       "backward! (generic function with 7 methods)"
      ]
     },
     "execution_count": 1,
     "metadata": {},
     "output_type": "execute_result"
    }
   ],
   "source": [
    "include(\"../common/layers.jl\")"
   ]
  },
  {
   "cell_type": "code",
   "execution_count": 2,
   "metadata": {},
   "outputs": [
    {
     "data": {
      "text/plain": [
       "1×7 Matrix{Int64}:\n",
       " 0  0  1  0  0  0  0"
      ]
     },
     "execution_count": 2,
     "metadata": {},
     "output_type": "execute_result"
    }
   ],
   "source": [
    "# サンプルのコンテキストデータ\n",
    "c0 = [1 0 0 0 0 0 0]\n",
    "c1 = [0 0 1 0 0 0 0]"
   ]
  },
  {
   "cell_type": "code",
   "execution_count": 3,
   "metadata": {},
   "outputs": [
    {
     "data": {
      "text/plain": [
       "3×7 Matrix{Float64}:\n",
       "  1.17318    0.527654  -1.12448    0.643377   0.429289  -0.179745  1.22313\n",
       " -0.160463  -0.624773  -0.745154  -0.259758   0.396817  -0.653477  1.01464\n",
       "  0.261609  -1.4324    -0.693314   0.178071  -0.143686  -2.10975   1.42743"
      ]
     },
     "execution_count": 3,
     "metadata": {},
     "output_type": "execute_result"
    }
   ],
   "source": [
    "# 重みの初期化\n",
    "W_in = randn(7, 3)\n",
    "W_out = randn(3, 7)"
   ]
  },
  {
   "cell_type": "code",
   "execution_count": 4,
   "metadata": {},
   "outputs": [
    {
     "data": {
      "text/plain": [
       "MatMul([[1.1731789574554385 0.5276538407785958 … -0.17974464421260047 1.2231349211482403; -0.1604633830516084 -0.6247730178240135 … -0.6534774613571321 1.0146369788626437; 0.2616085214206065 -1.4324032336408745 … -2.1097486182180263 1.4274313194483568]], [[0.0 0.0 … 0.0 0.0; 0.0 0.0 … 0.0 0.0; 0.0 0.0 … 0.0 0.0]], #undef)"
      ]
     },
     "execution_count": 4,
     "metadata": {},
     "output_type": "execute_result"
    }
   ],
   "source": [
    "# レイヤの生成\n",
    "in_layer0 = MatMul(W_in)\n",
    "in_layer1 = MatMul(W_in)\n",
    "out_layer = MatMul(W_out)"
   ]
  },
  {
   "cell_type": "code",
   "execution_count": 5,
   "metadata": {},
   "outputs": [
    {
     "data": {
      "text/plain": [
       "1×7 Matrix{Float64}:\n",
       " 0.296813  -2.59192  -1.43488  0.131157  -0.0406894  -3.65446  2.72655"
      ]
     },
     "execution_count": 5,
     "metadata": {},
     "output_type": "execute_result"
    }
   ],
   "source": [
    "# 順伝播\n",
    "h0 = forward!(in_layer0, c0)\n",
    "h1 = forward!(in_layer1, c1)\n",
    "h = 0.5 .* (h0 + h1)\n",
    "s = forward!(out_layer, h)"
   ]
  }
 ],
 "metadata": {
  "kernelspec": {
   "display_name": "Julia 1.6.0",
   "language": "julia",
   "name": "julia-1.6"
  },
  "language_info": {
   "file_extension": ".jl",
   "mimetype": "application/julia",
   "name": "julia",
   "version": "1.6.0"
  }
 },
 "nbformat": 4,
 "nbformat_minor": 4
}
