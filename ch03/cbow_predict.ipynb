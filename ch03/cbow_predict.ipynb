{
 "cells": [
  {
   "cell_type": "markdown",
   "metadata": {},
   "source": [
    "### 3.2.1 CBOWモデルの推論処理"
   ]
  },
  {
   "cell_type": "markdown",
   "metadata": {},
   "source": [
    "Python（NumPy）では1次元配列と$1 \\times x$行列は同じ扱いだが，Juliaでは扱いが異なる。  \n",
    "これは配列の扱いがJuliaの列指向とPythonの行指向で異なるためである。  \n",
    "そのため，行指向の設計思想を基に実装されたアルゴリズムを列指向の設計思想で再実装することが理想ではあるが，Python版の行列やテンソルの形状と一致させるため，（あと初心者なので…）無理矢理，行指向の設計思想でコードを実装している。  \n",
    "\n",
    "参考:  \n",
    "> Julia arrays are column major (Fortran ordered) whereas NumPy arrays are row major (C-ordered) by default.  \n",
    "\n",
    "Source: https://docs.julialang.org/en/v1/manual/noteworthy-differences/#Noteworthy-differences-from-Python"
   ]
  },
  {
   "cell_type": "code",
   "execution_count": 1,
   "metadata": {},
   "outputs": [
    {
     "data": {
      "text/plain": [
       "backward! (generic function with 5 methods)"
      ]
     },
     "execution_count": 1,
     "metadata": {},
     "output_type": "execute_result"
    }
   ],
   "source": [
    "include(\"../common/layers.jl\")"
   ]
  },
  {
   "cell_type": "code",
   "execution_count": 2,
   "metadata": {},
   "outputs": [
    {
     "data": {
      "text/plain": [
       "1×7 Array{Int64,2}:\n",
       " 0  0  1  0  0  0  0"
      ]
     },
     "execution_count": 2,
     "metadata": {},
     "output_type": "execute_result"
    }
   ],
   "source": [
    "# サンプルのコンテキストデータ\n",
    "c0 = [1 0 0 0 0 0 0]\n",
    "c1 = [0 0 1 0 0 0 0]"
   ]
  },
  {
   "cell_type": "code",
   "execution_count": 3,
   "metadata": {},
   "outputs": [
    {
     "data": {
      "text/plain": [
       "3×7 Array{Float64,2}:\n",
       " 0.408613  -0.891096  -0.973556   0.400117  0.41409   0.0423909  -1.50669\n",
       " 0.479233   0.838978   0.234187  -0.887608  0.514588  1.58721     0.7223\n",
       " 0.338443   0.974798   1.92346   -0.133039  2.22552   0.908843    2.39752"
      ]
     },
     "execution_count": 3,
     "metadata": {},
     "output_type": "execute_result"
    }
   ],
   "source": [
    "# 重みの初期化\n",
    "W_in = randn(7, 3)\n",
    "W_out = randn(3, 7)"
   ]
  },
  {
   "cell_type": "code",
   "execution_count": 4,
   "metadata": {},
   "outputs": [
    {
     "data": {
      "text/plain": [
       "MatMul([[0.4086130834178635 -0.8910960268638337 … 0.042390876323693746 -1.5066881281466438; 0.47923298942297315 0.8389781060925549 … 1.5872087790052387 0.7222997754033882; 0.3384434986358055 0.9747984191709418 … 0.9088428529083832 2.3975161355858434]], [[0.0 0.0 … 0.0 0.0; 0.0 0.0 … 0.0 0.0; 0.0 0.0 … 0.0 0.0]], #undef)"
      ]
     },
     "execution_count": 4,
     "metadata": {},
     "output_type": "execute_result"
    }
   ],
   "source": [
    "# レイヤの生成\n",
    "in_layer0 = MatMul(W_in)\n",
    "in_layer1 = MatMul(W_in)\n",
    "out_layer = MatMul(W_out)"
   ]
  },
  {
   "cell_type": "code",
   "execution_count": 5,
   "metadata": {},
   "outputs": [
    {
     "data": {
      "text/plain": [
       "1×7 Array{Float64,2}:\n",
       " 0.894253  1.14623  1.51783  -0.63292  2.6948  2.12806  2.09029"
      ]
     },
     "execution_count": 5,
     "metadata": {},
     "output_type": "execute_result"
    }
   ],
   "source": [
    "# 順伝播\n",
    "h0 = forward!(in_layer0, c0)\n",
    "h1 = forward!(in_layer1, c1)\n",
    "h = 0.5 .* (h0 + h1)\n",
    "s = forward!(out_layer, h)"
   ]
  }
 ],
 "metadata": {
  "kernelspec": {
   "display_name": "Julia 1.5.2",
   "language": "julia",
   "name": "julia-1.5"
  },
  "language_info": {
   "file_extension": ".jl",
   "mimetype": "application/julia",
   "name": "julia",
   "version": "1.5.2"
  }
 },
 "nbformat": 4,
 "nbformat_minor": 4
}
