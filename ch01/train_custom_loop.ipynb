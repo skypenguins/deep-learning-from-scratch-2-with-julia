{
 "cells": [
  {
   "cell_type": "markdown",
   "metadata": {},
   "source": [
    "### 1.4.3 学習用のソースコード"
   ]
  },
  {
   "cell_type": "code",
   "execution_count": 1,
   "metadata": {},
   "outputs": [
    {
     "name": "stdout",
     "output_type": "stream",
     "text": [
<<<<<<< HEAD
      "include(\"../common/optimizer.jl\") = Main.Optimizer\n",
      "include(\"../dataset/spiral.jl\") = Main.Spiral\n"
     ]
    },
    {
     "ename": "LoadError",
     "evalue": "LoadError: LoadError: LoadError: ArgumentError: Invalid use of @view macro: argument must be a reference expression A[...].\nin expression starting at /mnt/c/Users/Tsubasa Ono/OneDrive - Japan Advanced Institute of Science and Technology/julia_projects/deep_learning_from_scratch_2/common/layers.jl:106\nin expression starting at /mnt/c/Users/Tsubasa Ono/OneDrive - Japan Advanced Institute of Science and Technology/julia_projects/deep_learning_from_scratch_2/common/layers.jl:105\nin expression starting at /mnt/c/Users/Tsubasa Ono/OneDrive - Japan Advanced Institute of Science and Technology/julia_projects/deep_learning_from_scratch_2/ch01/two_layer_net.jl:4",
     "output_type": "error",
     "traceback": [
      "LoadError: LoadError: LoadError: ArgumentError: Invalid use of @view macro: argument must be a reference expression A[...].\nin expression starting at /mnt/c/Users/Tsubasa Ono/OneDrive - Japan Advanced Institute of Science and Technology/julia_projects/deep_learning_from_scratch_2/common/layers.jl:106\nin expression starting at /mnt/c/Users/Tsubasa Ono/OneDrive - Japan Advanced Institute of Science and Technology/julia_projects/deep_learning_from_scratch_2/common/layers.jl:105\nin expression starting at /mnt/c/Users/Tsubasa Ono/OneDrive - Japan Advanced Institute of Science and Technology/julia_projects/deep_learning_from_scratch_2/ch01/two_layer_net.jl:4",
      "",
      "Stacktrace:",
      " [1] @view(::LineNumberNode, ::Module, ::Any) at ./views.jl:123",
      " [2] include(::Function, ::Module, ::String) at ./Base.jl:380",
      " [3] include at ./Base.jl:368 [inlined]",
      " [4] include(::String) at /mnt/c/Users/Tsubasa Ono/OneDrive - Japan Advanced Institute of Science and Technology/julia_projects/deep_learning_from_scratch_2/ch01/two_layer_net.jl:1",
      " [5] top-level scope at /mnt/c/Users/Tsubasa Ono/OneDrive - Japan Advanced Institute of Science and Technology/julia_projects/deep_learning_from_scratch_2/ch01/two_layer_net.jl:4",
      " [6] include(::String) at ./client.jl:457",
      " [7] top-level scope at show.jl:641",
      " [8] include_string(::Function, ::Module, ::String, ::String) at ./loading.jl:1091"
     ]
    }
   ],
   "source": [
    "# モデル定義ファイルの読み込み\n",
    "@show include(\"../common/optimizer.jl\")\n",
    "@show include(\"../dataset/spiral.jl\")\n",
=======
      "include(\"../common/optimizer.jl\") = update!\n",
      "include(\"../dataset/spiral.jl\") = Main.Spiral\n",
      "include(\"./two_layer_net.jl\") = backward!\n"
     ]
    },
    {
     "data": {
      "text/plain": [
       "backward! (generic function with 6 methods)"
      ]
     },
     "execution_count": 1,
     "metadata": {},
     "output_type": "execute_result"
    }
   ],
   "source": [
    "# 最適化アルゴリズム定義ファイルの読み込み\n",
    "@show include(\"../common/optimizer.jl\")\n",
    "# スパイラル・データセット定義ファイルの読み込み\n",
    "@show include(\"../dataset/spiral.jl\")\n",
    "# モデル定義ファイルの読み込み\n",
>>>>>>> a3b914be1ffd97e8110d4ab90254a718078d024a
    "@show include(\"./two_layer_net.jl\")"
   ]
  },
  {
   "cell_type": "code",
<<<<<<< HEAD
   "execution_count": null,
   "metadata": {},
   "outputs": [],
   "source": [
    "# モジュールの読み込み\n",
    "using .Optimizer\n",
    "using .Spiral\n",
    "using .Two_layer_net\n",
    "using Random\n",
    "#using Plots"
=======
   "execution_count": 2,
   "metadata": {},
   "outputs": [
    {
     "data": {
      "text/plain": [
       "Plots.PyPlotBackend()"
      ]
     },
     "execution_count": 2,
     "metadata": {},
     "output_type": "execute_result"
    }
   ],
   "source": [
    "# モジュールの読み込み\n",
    "using .Spiral\n",
    "using Random\n",
    "using Plots\n",
    "pyplot()"
>>>>>>> a3b914be1ffd97e8110d4ab90254a718078d024a
   ]
  },
  {
   "cell_type": "code",
<<<<<<< HEAD
   "execution_count": null,
   "metadata": {},
   "outputs": [],
   "source": [
    "# ハイパーパラメータの設定\n",
    "max_epoch = 300\n",
    "batch_size = 30\n",
    "hidden_size = 10\n",
=======
   "execution_count": 3,
   "metadata": {},
   "outputs": [
    {
     "data": {
      "text/plain": [
       "1.0"
      ]
     },
     "execution_count": 3,
     "metadata": {},
     "output_type": "execute_result"
    }
   ],
   "source": [
    "# ハイパーパラメータの設定\n",
    "max_epoch = 300\n",
    "batch_size = 10\n",
    "hidden_size = 30\n",
>>>>>>> a3b914be1ffd97e8110d4ab90254a718078d024a
    "learning_rate = 1.0"
   ]
  },
  {
   "cell_type": "code",
<<<<<<< HEAD
   "execution_count": null,
   "metadata": {},
   "outputs": [],
   "source": [
    "x, t = load_data()\n",
    "@show typeof(x)\n",
    "@show typeof(t)\n",
=======
   "execution_count": 4,
   "metadata": {},
   "outputs": [
    {
     "name": "stdout",
     "output_type": "stream",
     "text": [
      "seed = 2020\n"
     ]
    },
    {
     "data": {
      "text/plain": [
       "SGD(1.0)"
      ]
     },
     "execution_count": 4,
     "metadata": {},
     "output_type": "execute_result"
    }
   ],
   "source": [
    "seed = 2020\n",
    "x, t = load_data(seed=seed)\n",
>>>>>>> a3b914be1ffd97e8110d4ab90254a718078d024a
    "model = TwoLayerNet(input_size=2, hidden_size=hidden_size, output_size=3)\n",
    "optimizer = SGD(lr=learning_rate)"
   ]
  },
  {
   "cell_type": "code",
<<<<<<< HEAD
   "execution_count": null,
   "metadata": {},
   "outputs": [],
   "source": [
    "# 学習で使用する変数\n",
    "data_size = size(x, 1)\n",
    "max_iters = data_size ÷ batch_size # 整数除算「÷」は「\\div」で入力 cf. https://docs.julialang.org/en/v1/manual/unicode-input/\n",
    "total_loss = 0\n",
    "loss_count = 0\n",
=======
   "execution_count": 5,
   "metadata": {},
   "outputs": [
    {
     "data": {
      "text/plain": [
       "Any[]"
      ]
     },
     "execution_count": 5,
     "metadata": {},
     "output_type": "execute_result"
    }
   ],
   "source": [
    "# 学習で使用する変数\n",
    "data_size = size(x ,1) # 300\n",
    "max_iters = data_size ÷ batch_size # 整数除算「÷」は「\\div」で入力 cf. https://docs.julialang.org/en/v1/manual/unicode-input/\n",
>>>>>>> a3b914be1ffd97e8110d4ab90254a718078d024a
    "loss_list = []"
   ]
  },
  {
   "cell_type": "code",
<<<<<<< HEAD
   "execution_count": null,
   "metadata": {},
   "outputs": [],
   "source": [
    "# Jupyter(IJulia)上では，ローカルスコープ内からグローバルスコープの変数を変更できる(v1.5以降も同様)\n",
    "# REPLではなくパッケージでは，このコードは動作しない\n",
    "for epoch = 1:max_epoch\n",
    "    # データのシャッフル\n",
    "    idx = shuffle(1:data_size) # 1～data_sizeの範囲の一意な数値を要素に持つ要素数data_sizeのVectorを返す\n",
    "    x = x[idx, :]\n",
    "    t = t[idx, :]\n",
    "    \n",
    "    for iters = 0:max_iters-1\n",
    "        batch_x = x[(iters * batch_size) + 1:(iters + 1) * batch_size, :]\n",
    "        batch_t = t[(iters * batch_size) + 1:(iters + 1) * batch_size, :]\n",
    "        \n",
    "        #勾配を求め，パラメータを更新\n",
    "        loss = forward(model, batch_x, batch_t) # model.forward()\n",
    "        backward(model) # model.backward()\n",
    "        update(optimizer, model.params, model.grads)\n",
    "        \n",
    "        total_loss += loss\n",
    "        loss_count += 1\n",
    "        \n",
    "        # 定期的に学習経過を出力\n",
    "        if iters % 10 == 0\n",
    "            avg_loss = total_loss / loss_count\n",
    "            println(\"| epoch $epoch | iter $(iters + 1) / $max_iters | loss $(round(avg_loss, 2))\")\n",
    "            vcat(loss_list, avg_loss)\n",
    "            total_loss, loss_count = 0, 0\n",
=======
   "execution_count": 6,
   "metadata": {},
   "outputs": [
    {
     "data": {
      "text/plain": [
       "train! (generic function with 1 method)"
      ]
     },
     "execution_count": 6,
     "metadata": {},
     "output_type": "execute_result"
    }
   ],
   "source": [
    "function train!(model::TwoLayerNet, batch_x, batch_t)\n",
    "    # 損失を計算\n",
    "    loss = forward!(model, batch_x, batch_t) # model.forward()\n",
    "    # 勾配を求める\n",
    "    backward!(model) # model.backward()\n",
    "    # パラメータを更新\n",
    "    update!(optimizer, model.params, model.grads)\n",
    "    \n",
    "    push!(loss_list, loss)\n",
    "    return loss\n",
    "end"
   ]
  },
  {
   "cell_type": "code",
   "execution_count": 7,
   "metadata": {},
   "outputs": [
    {
     "data": {
      "text/plain": [
       "train! (generic function with 2 methods)"
      ]
     },
     "execution_count": 7,
     "metadata": {},
     "output_type": "execute_result"
    }
   ],
   "source": [
    "function train!(model::TwoLayerNet, max_epoch, max_iters, train_x, train_t)\n",
    "    total_loss = 0\n",
    "    loss_count = 0\n",
    "    \n",
    "    for epoch = 1:max_epoch\n",
    "        # ミニバッチの生成\n",
    "        indices = rand(1:data_size, batch_size) # 1～data_sizeの範囲の一意な数値を要素に持つ要素数data_sizeのVectorを返す\n",
    "        batch_x = train_x[indices, :]\n",
    "        batch_t = train_t[indices, :]\n",
    "        \n",
    "        for iter = 1:max_iters\n",
    "            loss = train!(model, batch_x, batch_t)\n",
    "            total_loss += loss\n",
    "            loss_count += 1\n",
    "            # 定期的に学習経過を出力\n",
    "            if iter % max_iters == 0\n",
    "                avg_loss = total_loss / loss_count\n",
    "                println(\"| epoch $(epoch) | iter $(iter) / $(max_iters) | loss $(round(avg_loss, digits=2))\")\n",
    "                push!(loss_list, avg_loss)\n",
    "                total_loss, loss_count = 0, 0\n",
    "            end\n",
>>>>>>> a3b914be1ffd97e8110d4ab90254a718078d024a
    "        end\n",
    "    end\n",
    "end"
   ]
  },
  {
   "cell_type": "code",
<<<<<<< HEAD
   "execution_count": null,
   "metadata": {},
   "outputs": [],
   "source": []
=======
   "execution_count": 8,
   "metadata": {},
   "outputs": [
    {
     "name": "stdout",
     "output_type": "stream",
     "text": [
      "| epoch 1 | iter 30 / 30 | loss 14.21\n",
      "| epoch 2 | iter 30 / 30 | loss 12.22\n",
      "| epoch 3 | iter 30 / 30 | loss 11.48\n",
      "| epoch 4 | iter 30 / 30 | loss 10.33\n",
      "| epoch 5 | iter 30 / 30 | loss 10.31\n",
      "| epoch 6 | iter 30 / 30 | loss 9.59\n",
      "| epoch 7 | iter 30 / 30 | loss 7.92\n",
      "| epoch 8 | iter 30 / 30 | loss 7.45\n",
      "| epoch 9 | iter 30 / 30 | loss 5.11\n",
      "| epoch 10 | iter 30 / 30 | loss 9.29\n",
      "| epoch 11 | iter 30 / 30 | loss 4.87\n",
      "| epoch 12 | iter 30 / 30 | loss 3.1\n",
      "| epoch 13 | iter 30 / 30 | loss 5.67\n",
      "| epoch 14 | iter 30 / 30 | loss 6.59\n",
      "| epoch 15 | iter 30 / 30 | loss 7.7\n",
      "| epoch 16 | iter 30 / 30 | loss 2.52\n",
      "| epoch 17 | iter 30 / 30 | loss 7.16\n",
      "| epoch 18 | iter 30 / 30 | loss 3.05\n",
      "| epoch 19 | iter 30 / 30 | loss 7.92\n",
      "| epoch 20 | iter 30 / 30 | loss 2.26\n",
      "| epoch 21 | iter 30 / 30 | loss 5.07\n",
      "| epoch 22 | iter 30 / 30 | loss 4.61\n",
      "| epoch 23 | iter 30 / 30 | loss 0.86\n",
      "| epoch 24 | iter 30 / 30 | loss 6.09\n",
      "| epoch 25 | iter 30 / 30 | loss 5.91\n",
      "| epoch 26 | iter 30 / 30 | loss 4.77\n",
      "| epoch 27 | iter 30 / 30 | loss 3.98\n",
      "| epoch 28 | iter 30 / 30 | loss 1.65\n",
      "| epoch 29 | iter 30 / 30 | loss 2.51\n",
      "| epoch 30 | iter 30 / 30 | loss 2.36\n",
      "| epoch 31 | iter 30 / 30 | loss 7.09\n",
      "| epoch 32 | iter 30 / 30 | loss 6.28\n",
      "| epoch 33 | iter 30 / 30 | loss 1.44\n",
      "| epoch 34 | iter 30 / 30 | loss 5.57\n",
      "| epoch 35 | iter 30 / 30 | loss 3.81\n",
      "| epoch 36 | iter 30 / 30 | loss 4.76\n",
      "| epoch 37 | iter 30 / 30 | loss 2.87\n",
      "| epoch 38 | iter 30 / 30 | loss 1.23\n",
      "| epoch 39 | iter 30 / 30 | loss 7.43\n",
      "| epoch 40 | iter 30 / 30 | loss 4.09\n",
      "| epoch 41 | iter 30 / 30 | loss 4.1\n",
      "| epoch 42 | iter 30 / 30 | loss 2.95\n",
      "| epoch 43 | iter 30 / 30 | loss 2.98\n",
      "| epoch 44 | iter 30 / 30 | loss 6.55\n",
      "| epoch 45 | iter 30 / 30 | loss 3.92\n",
      "| epoch 46 | iter 30 / 30 | loss 6.82\n",
      "| epoch 47 | iter 30 / 30 | loss 2.22\n",
      "| epoch 48 | iter 30 / 30 | loss 6.38\n",
      "| epoch 49 | iter 30 / 30 | loss 1.94\n",
      "| epoch 50 | iter 30 / 30 | loss 1.22\n",
      "| epoch 51 | iter 30 / 30 | loss 4.24\n",
      "| epoch 52 | iter 30 / 30 | loss 2.18\n",
      "| epoch 53 | iter 30 / 30 | loss 1.55\n",
      "| epoch 54 | iter 30 / 30 | loss 0.45\n",
      "| epoch 55 | iter 30 / 30 | loss 1.67\n",
      "| epoch 56 | iter 30 / 30 | loss 1.4\n",
      "| epoch 57 | iter 30 / 30 | loss 4.32\n",
      "| epoch 58 | iter 30 / 30 | loss 3.82\n",
      "| epoch 59 | iter 30 / 30 | loss 4.16\n",
      "| epoch 60 | iter 30 / 30 | loss 1.62\n",
      "| epoch 61 | iter 30 / 30 | loss 3.36\n",
      "| epoch 62 | iter 30 / 30 | loss 1.93\n",
      "| epoch 63 | iter 30 / 30 | loss 1.54\n",
      "| epoch 64 | iter 30 / 30 | loss 1.46\n",
      "| epoch 65 | iter 30 / 30 | loss 0.44\n",
      "| epoch 66 | iter 30 / 30 | loss 1.8\n",
      "| epoch 67 | iter 30 / 30 | loss 1.53\n",
      "| epoch 68 | iter 30 / 30 | loss 2.54\n",
      "| epoch 69 | iter 30 / 30 | loss 1.51\n",
      "| epoch 70 | iter 30 / 30 | loss 3.37\n",
      "| epoch 71 | iter 30 / 30 | loss 0.67\n",
      "| epoch 72 | iter 30 / 30 | loss 1.8\n",
      "| epoch 73 | iter 30 / 30 | loss 1.63\n",
      "| epoch 74 | iter 30 / 30 | loss 0.19\n",
      "| epoch 75 | iter 30 / 30 | loss 1.32\n",
      "| epoch 76 | iter 30 / 30 | loss 0.99\n",
      "| epoch 77 | iter 30 / 30 | loss 3.48\n",
      "| epoch 78 | iter 30 / 30 | loss 0.66\n",
      "| epoch 79 | iter 30 / 30 | loss 0.74\n",
      "| epoch 80 | iter 30 / 30 | loss 1.24\n",
      "| epoch 81 | iter 30 / 30 | loss 0.77\n",
      "| epoch 82 | iter 30 / 30 | loss 0.99\n",
      "| epoch 83 | iter 30 / 30 | loss 0.75\n",
      "| epoch 84 | iter 30 / 30 | loss 1.31\n",
      "| epoch 85 | iter 30 / 30 | loss 0.64\n",
      "| epoch 86 | iter 30 / 30 | loss 2.62\n",
      "| epoch 87 | iter 30 / 30 | loss 0.25\n",
      "| epoch 88 | iter 30 / 30 | loss 0.81\n",
      "| epoch 89 | iter 30 / 30 | loss 1.21\n",
      "| epoch 90 | iter 30 / 30 | loss 0.79\n",
      "| epoch 91 | iter 30 / 30 | loss 1.87\n",
      "| epoch 92 | iter 30 / 30 | loss 0.49\n",
      "| epoch 93 | iter 30 / 30 | loss 0.47\n",
      "| epoch 94 | iter 30 / 30 | loss 2.61\n",
      "| epoch 95 | iter 30 / 30 | loss 0.6\n",
      "| epoch 96 | iter 30 / 30 | loss 0.09\n",
      "| epoch 97 | iter 30 / 30 | loss 0.66\n",
      "| epoch 98 | iter 30 / 30 | loss 0.32\n",
      "| epoch 99 | iter 30 / 30 | loss 2.11\n",
      "| epoch 100 | iter 30 / 30 | loss 1.45\n",
      "| epoch 101 | iter 30 / 30 | loss 1.19\n",
      "| epoch 102 | iter 30 / 30 | loss 2.74\n",
      "| epoch 103 | iter 30 / 30 | loss 0.77\n",
      "| epoch 104 | iter 30 / 30 | loss 0.83\n",
      "| epoch 105 | iter 30 / 30 | loss 0.12\n",
      "| epoch 106 | iter 30 / 30 | loss 1.24\n",
      "| epoch 107 | iter 30 / 30 | loss 0.68\n",
      "| epoch 108 | iter 30 / 30 | loss 1.38\n",
      "| epoch 109 | iter 30 / 30 | loss 0.75\n",
      "| epoch 110 | iter 30 / 30 | loss 0.68\n",
      "| epoch 111 | iter 30 / 30 | loss 0.29\n",
      "| epoch 112 | iter 30 / 30 | loss 0.41\n",
      "| epoch 113 | iter 30 / 30 | loss 1.03\n",
      "| epoch 114 | iter 30 / 30 | loss 0.59\n",
      "| epoch 115 | iter 30 / 30 | loss 0.83\n",
      "| epoch 116 | iter 30 / 30 | loss 0.81\n",
      "| epoch 117 | iter 30 / 30 | loss 0.57\n",
      "| epoch 118 | iter 30 / 30 | loss 4.79\n",
      "| epoch 119 | iter 30 / 30 | loss 0.31\n",
      "| epoch 120 | iter 30 / 30 | loss 0.77\n",
      "| epoch 121 | iter 30 / 30 | loss 0.65\n",
      "| epoch 122 | iter 30 / 30 | loss 0.37\n",
      "| epoch 123 | iter 30 / 30 | loss 0.14\n",
      "| epoch 124 | iter 30 / 30 | loss 0.49\n",
      "| epoch 125 | iter 30 / 30 | loss 0.78\n",
      "| epoch 126 | iter 30 / 30 | loss 1.9\n",
      "| epoch 127 | iter 30 / 30 | loss 0.3\n",
      "| epoch 128 | iter 30 / 30 | loss 3.25\n",
      "| epoch 129 | iter 30 / 30 | loss 1.68\n",
      "| epoch 130 | iter 30 / 30 | loss 3.26\n",
      "| epoch 131 | iter 30 / 30 | loss 0.36\n",
      "| epoch 132 | iter 30 / 30 | loss 0.39\n",
      "| epoch 133 | iter 30 / 30 | loss 0.98\n",
      "| epoch 134 | iter 30 / 30 | loss 0.15\n",
      "| epoch 135 | iter 30 / 30 | loss 0.34\n",
      "| epoch 136 | iter 30 / 30 | loss 0.13\n",
      "| epoch 137 | iter 30 / 30 | loss 0.24\n",
      "| epoch 138 | iter 30 / 30 | loss 0.3\n",
      "| epoch 139 | iter 30 / 30 | loss 1.1\n",
      "| epoch 140 | iter 30 / 30 | loss 1.3\n",
      "| epoch 141 | iter 30 / 30 | loss 0.5\n",
      "| epoch 142 | iter 30 / 30 | loss 0.98\n",
      "| epoch 143 | iter 30 / 30 | loss 0.72\n",
      "| epoch 144 | iter 30 / 30 | loss 0.84\n",
      "| epoch 145 | iter 30 / 30 | loss 0.05\n",
      "| epoch 146 | iter 30 / 30 | loss 0.03\n",
      "| epoch 147 | iter 30 / 30 | loss 0.49\n",
      "| epoch 148 | iter 30 / 30 | loss 0.13\n",
      "| epoch 149 | iter 30 / 30 | loss 0.11\n",
      "| epoch 150 | iter 30 / 30 | loss 0.17\n",
      "| epoch 151 | iter 30 / 30 | loss 0.78\n",
      "| epoch 152 | iter 30 / 30 | loss 1.11\n",
      "| epoch 153 | iter 30 / 30 | loss 0.14\n",
      "| epoch 154 | iter 30 / 30 | loss 0.12\n",
      "| epoch 155 | iter 30 / 30 | loss 0.21\n",
      "| epoch 156 | iter 30 / 30 | loss 0.35\n",
      "| epoch 157 | iter 30 / 30 | loss 1.41\n",
      "| epoch 158 | iter 30 / 30 | loss 0.35\n",
      "| epoch 159 | iter 30 / 30 | loss 0.16\n",
      "| epoch 160 | iter 30 / 30 | loss 0.11\n",
      "| epoch 161 | iter 30 / 30 | loss 0.09\n",
      "| epoch 162 | iter 30 / 30 | loss 0.16\n",
      "| epoch 163 | iter 30 / 30 | loss 0.44\n",
      "| epoch 164 | iter 30 / 30 | loss 0.11\n",
      "| epoch 165 | iter 30 / 30 | loss 0.13\n",
      "| epoch 166 | iter 30 / 30 | loss 0.15\n",
      "| epoch 167 | iter 30 / 30 | loss 0.57\n",
      "| epoch 168 | iter 30 / 30 | loss 0.89\n",
      "| epoch 169 | iter 30 / 30 | loss 1.15\n",
      "| epoch 170 | iter 30 / 30 | loss 0.32\n",
      "| epoch 171 | iter 30 / 30 | loss 0.37\n",
      "| epoch 172 | iter 30 / 30 | loss 5.57\n",
      "| epoch 173 | iter 30 / 30 | loss 0.62\n",
      "| epoch 174 | iter 30 / 30 | loss 0.13\n",
      "| epoch 175 | iter 30 / 30 | loss 0.15\n",
      "| epoch 176 | iter 30 / 30 | loss 0.12\n",
      "| epoch 177 | iter 30 / 30 | loss 0.08\n",
      "| epoch 178 | iter 30 / 30 | loss 0.69\n",
      "| epoch 179 | iter 30 / 30 | loss 0.35\n",
      "| epoch 180 | iter 30 / 30 | loss 0.23\n",
      "| epoch 181 | iter 30 / 30 | loss 0.13\n",
      "| epoch 182 | iter 30 / 30 | loss 0.31\n",
      "| epoch 183 | iter 30 / 30 | loss 0.83\n",
      "| epoch 184 | iter 30 / 30 | loss 0.24\n",
      "| epoch 185 | iter 30 / 30 | loss 0.71\n",
      "| epoch 186 | iter 30 / 30 | loss 0.11\n",
      "| epoch 187 | iter 30 / 30 | loss 0.21\n",
      "| epoch 188 | iter 30 / 30 | loss 0.27\n",
      "| epoch 189 | iter 30 / 30 | loss 0.06\n",
      "| epoch 190 | iter 30 / 30 | loss 0.37\n",
      "| epoch 191 | iter 30 / 30 | loss 0.06\n",
      "| epoch 192 | iter 30 / 30 | loss 0.45\n",
      "| epoch 193 | iter 30 / 30 | loss 1.24\n",
      "| epoch 194 | iter 30 / 30 | loss 0.18\n",
      "| epoch 195 | iter 30 / 30 | loss 0.2\n",
      "| epoch 196 | iter 30 / 30 | loss 1.89\n",
      "| epoch 197 | iter 30 / 30 | loss 0.27\n",
      "| epoch 198 | iter 30 / 30 | loss 0.1\n",
      "| epoch 199 | iter 30 / 30 | loss 0.14\n",
      "| epoch 200 | iter 30 / 30 | loss 1.55\n",
      "| epoch 201 | iter 30 / 30 | loss 0.12\n",
      "| epoch 202 | iter 30 / 30 | loss 0.19\n",
      "| epoch 203 | iter 30 / 30 | loss 0.05\n",
      "| epoch 204 | iter 30 / 30 | loss 0.2\n",
      "| epoch 205 | iter 30 / 30 | loss 1.02\n",
      "| epoch 206 | iter 30 / 30 | loss 1.17\n",
      "| epoch 207 | iter 30 / 30 | loss 0.06\n",
      "| epoch 208 | iter 30 / 30 | loss 0.07\n",
      "| epoch 209 | iter 30 / 30 | loss 0.18\n",
      "| epoch 210 | iter 30 / 30 | loss 0.07\n",
      "| epoch 211 | iter 30 / 30 | loss 0.4\n",
      "| epoch 212 | iter 30 / 30 | loss 0.43\n",
      "| epoch 213 | iter 30 / 30 | loss 0.21\n",
      "| epoch 214 | iter 30 / 30 | loss 0.41\n",
      "| epoch 215 | iter 30 / 30 | loss 0.27\n",
      "| epoch 216 | iter 30 / 30 | loss 0.03\n",
      "| epoch 217 | iter 30 / 30 | loss 0.27\n",
      "| epoch 218 | iter 30 / 30 | loss 0.22\n",
      "| epoch 219 | iter 30 / 30 | loss 0.28\n",
      "| epoch 220 | iter 30 / 30 | loss 1.9\n",
      "| epoch 221 | iter 30 / 30 | loss 0.15\n",
      "| epoch 222 | iter 30 / 30 | loss 0.14\n",
      "| epoch 223 | iter 30 / 30 | loss 0.13\n",
      "| epoch 224 | iter 30 / 30 | loss 0.4\n",
      "| epoch 225 | iter 30 / 30 | loss 0.09\n",
      "| epoch 226 | iter 30 / 30 | loss 0.18\n",
      "| epoch 227 | iter 30 / 30 | loss 0.25\n",
      "| epoch 228 | iter 30 / 30 | loss 0.05\n",
      "| epoch 229 | iter 30 / 30 | loss 0.09\n",
      "| epoch 230 | iter 30 / 30 | loss 0.06\n",
      "| epoch 231 | iter 30 / 30 | loss 1.04\n",
      "| epoch 232 | iter 30 / 30 | loss 0.78\n"
     ]
    },
    {
     "name": "stdout",
     "output_type": "stream",
     "text": [
      "| epoch 233 | iter 30 / 30 | loss 0.93\n",
      "| epoch 234 | iter 30 / 30 | loss 0.1\n",
      "| epoch 235 | iter 30 / 30 | loss 0.45\n",
      "| epoch 236 | iter 30 / 30 | loss 0.09\n",
      "| epoch 237 | iter 30 / 30 | loss 4.1\n",
      "| epoch 238 | iter 30 / 30 | loss 0.17\n",
      "| epoch 239 | iter 30 / 30 | loss 0.11\n",
      "| epoch 240 | iter 30 / 30 | loss 0.11\n",
      "| epoch 241 | iter 30 / 30 | loss 0.19\n",
      "| epoch 242 | iter 30 / 30 | loss 0.05\n",
      "| epoch 243 | iter 30 / 30 | loss 0.56\n",
      "| epoch 244 | iter 30 / 30 | loss 0.16\n",
      "| epoch 245 | iter 30 / 30 | loss 0.45\n",
      "| epoch 246 | iter 30 / 30 | loss 0.02\n",
      "| epoch 247 | iter 30 / 30 | loss 0.07\n",
      "| epoch 248 | iter 30 / 30 | loss 0.06\n",
      "| epoch 249 | iter 30 / 30 | loss 0.04\n",
      "| epoch 250 | iter 30 / 30 | loss 0.2\n",
      "| epoch 251 | iter 30 / 30 | loss 0.11\n",
      "| epoch 252 | iter 30 / 30 | loss 0.19\n",
      "| epoch 253 | iter 30 / 30 | loss 0.05\n",
      "| epoch 254 | iter 30 / 30 | loss 0.59\n",
      "| epoch 255 | iter 30 / 30 | loss 0.06\n",
      "| epoch 256 | iter 30 / 30 | loss 0.06\n",
      "| epoch 257 | iter 30 / 30 | loss 0.25\n",
      "| epoch 258 | iter 30 / 30 | loss 0.08\n",
      "| epoch 259 | iter 30 / 30 | loss 0.17\n",
      "| epoch 260 | iter 30 / 30 | loss 0.05\n",
      "| epoch 261 | iter 30 / 30 | loss 0.02\n",
      "| epoch 262 | iter 30 / 30 | loss 0.38\n",
      "| epoch 263 | iter 30 / 30 | loss 0.07\n",
      "| epoch 264 | iter 30 / 30 | loss 0.62\n",
      "| epoch 265 | iter 30 / 30 | loss 0.19\n",
      "| epoch 266 | iter 30 / 30 | loss 0.11\n",
      "| epoch 267 | iter 30 / 30 | loss 0.39\n",
      "| epoch 268 | iter 30 / 30 | loss 0.25\n",
      "| epoch 269 | iter 30 / 30 | loss 0.43\n",
      "| epoch 270 | iter 30 / 30 | loss 0.1\n",
      "| epoch 271 | iter 30 / 30 | loss 0.2\n",
      "| epoch 272 | iter 30 / 30 | loss 0.09\n",
      "| epoch 273 | iter 30 / 30 | loss 0.38\n",
      "| epoch 274 | iter 30 / 30 | loss 0.11\n",
      "| epoch 275 | iter 30 / 30 | loss 0.19\n",
      "| epoch 276 | iter 30 / 30 | loss 0.39\n",
      "| epoch 277 | iter 30 / 30 | loss 0.13\n",
      "| epoch 278 | iter 30 / 30 | loss 0.12\n",
      "| epoch 279 | iter 30 / 30 | loss 0.04\n",
      "| epoch 280 | iter 30 / 30 | loss 0.14\n",
      "| epoch 281 | iter 30 / 30 | loss 0.11\n",
      "| epoch 282 | iter 30 / 30 | loss 0.4\n",
      "| epoch 283 | iter 30 / 30 | loss 0.04\n",
      "| epoch 284 | iter 30 / 30 | loss 1.23\n",
      "| epoch 285 | iter 30 / 30 | loss 0.44\n",
      "| epoch 286 | iter 30 / 30 | loss 2.53\n",
      "| epoch 287 | iter 30 / 30 | loss 0.01\n",
      "| epoch 288 | iter 30 / 30 | loss 0.06\n",
      "| epoch 289 | iter 30 / 30 | loss 0.07\n",
      "| epoch 290 | iter 30 / 30 | loss 0.29\n",
      "| epoch 291 | iter 30 / 30 | loss 0.04\n",
      "| epoch 292 | iter 30 / 30 | loss 1.18\n",
      "| epoch 293 | iter 30 / 30 | loss 0.38\n",
      "| epoch 294 | iter 30 / 30 | loss 0.03\n",
      "| epoch 295 | iter 30 / 30 | loss 0.84\n",
      "| epoch 296 | iter 30 / 30 | loss 0.19\n",
      "| epoch 297 | iter 30 / 30 | loss 0.09\n",
      "| epoch 298 | iter 30 / 30 | loss 0.63\n",
      "| epoch 299 | iter 30 / 30 | loss 0.12\n",
      "| epoch 300 | iter 30 / 30 | loss 0.23\n",
      "  3.813959 seconds (10.14 M allocations: 627.599 MiB, 5.00% gc time)\n"
     ]
    }
   ],
   "source": [
    "@time train!(model, max_epoch, max_iters, x, t)"
   ]
  },
  {
   "cell_type": "code",
   "execution_count": 9,
   "metadata": {},
   "outputs": [
    {
     "data": {
      "image/png": "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"
     },
     "execution_count": 9,
     "metadata": {},
     "output_type": "execute_result"
    }
   ],
   "source": [
    "# 損失履歴を描画\n",
    "plot(loss_list)"
   ]
  },
  {
   "cell_type": "code",
   "execution_count": 10,
   "metadata": {},
   "outputs": [
    {
     "data": {
      "text/plain": [
       "2022×2051 Array{Int64,2}:\n",
       " 1  1  1  1  1  1  1  1  1  1  1  1  1  …  1  1  1  1  1  1  1  1  1  1  1  1\n",
       " 1  1  1  1  1  1  1  1  1  1  1  1  1     1  1  1  1  1  1  1  1  1  1  1  1\n",
       " 1  1  1  1  1  1  1  1  1  1  1  1  1     1  1  1  1  1  1  1  1  1  1  1  1\n",
       " 1  1  1  1  1  1  1  1  1  1  1  1  1     1  1  1  1  1  1  1  1  1  1  1  1\n",
       " 1  1  1  1  1  1  1  1  1  1  1  1  1     1  1  1  1  1  1  1  1  1  1  1  1\n",
       " 1  1  1  1  1  1  1  1  1  1  1  1  1  …  1  1  1  1  1  1  1  1  1  1  1  1\n",
       " 1  1  1  1  1  1  1  1  1  1  1  1  1     1  1  1  1  1  1  1  1  1  1  1  1\n",
       " 1  1  1  1  1  1  1  1  1  1  1  1  1     1  1  1  1  1  1  1  1  1  1  1  1\n",
       " 1  1  1  1  1  1  1  1  1  1  1  1  1     1  1  1  1  1  1  1  1  1  1  1  1\n",
       " 1  1  1  1  1  1  1  1  1  1  1  1  1     1  1  1  1  1  1  1  1  1  1  1  1\n",
       " 1  1  1  1  1  1  1  1  1  1  1  1  1  …  1  1  1  1  1  1  1  1  1  1  1  1\n",
       " 1  1  1  1  1  1  1  1  1  1  1  1  1     1  1  1  1  1  1  1  1  1  1  1  1\n",
       " 1  1  1  1  1  1  1  1  1  1  1  1  1     1  1  1  1  1  1  1  1  1  1  1  1\n",
       " ⋮              ⋮              ⋮        ⋱     ⋮              ⋮              ⋮\n",
       " 3  3  3  3  3  3  3  3  3  3  3  3  3  …  2  2  2  2  2  2  2  2  2  2  2  2\n",
       " 3  3  3  3  3  3  3  3  3  3  3  3  3     2  2  2  2  2  2  2  2  2  2  2  2\n",
       " 3  3  3  3  3  3  3  3  3  3  3  3  3     2  2  2  2  2  2  2  2  2  2  2  2\n",
       " 3  3  3  3  3  3  3  3  3  3  3  3  3     2  2  2  2  2  2  2  2  2  2  2  2\n",
       " 3  3  3  3  3  3  3  3  3  3  3  3  3     2  2  2  2  2  2  2  2  2  2  2  2\n",
       " 3  3  3  3  3  3  3  3  3  3  3  3  3  …  2  2  2  2  2  2  2  2  2  2  2  2\n",
       " 3  3  3  3  3  3  3  3  3  3  3  3  3     2  2  2  2  2  2  2  2  2  2  2  2\n",
       " 3  3  3  3  3  3  3  3  3  3  3  3  3     2  2  2  2  2  2  2  2  2  2  2  2\n",
       " 3  3  3  3  3  3  3  3  3  3  3  3  3     2  2  2  2  2  2  2  2  2  2  2  2\n",
       " 3  3  3  3  3  3  3  3  3  3  3  3  3     2  2  2  2  2  2  2  2  2  2  2  2\n",
       " 3  3  3  3  3  3  3  3  3  3  3  3  3  …  2  2  2  2  2  2  2  2  2  2  2  2\n",
       " 3  3  3  3  3  3  3  3  3  3  3  3  3     2  2  2  2  2  2  2  2  2  2  2  2"
      ]
     },
     "execution_count": 10,
     "metadata": {},
     "output_type": "execute_result"
    }
   ],
   "source": [
    "# 決定境界のプロットの準備\n",
    "h = 0.001\n",
    "x_min = minimum(x[:, 1]) .- .1\n",
    "x_max = maximum(x[:, 1]) .+ .1\n",
    "y_min = minimum(x[:, 2]) .- .1\n",
    "y_max = maximum(x[:, 2]) .+ .1\n",
    "_x = collect(x_min:h:x_max)\n",
    "_y = collect(y_min:h:y_max)\n",
    "xx = repeat(_x', outer=(length(_y),1)) # np.meshgrid()\n",
    "yy = repeat(_y,  outer=(1,length(_x))) # np.meshgrid()\n",
    "X = hcat(collect(Iterators.flatten(xx)), collect(Iterators.flatten(yy)))\n",
    "score = predict!(model, X)\n",
    "predict_cls = mapslices(argmax, score, dims=2)[:]\n",
    "Z = reshape(predict_cls, size(xx)...)"
   ]
  },
  {
   "cell_type": "code",
   "execution_count": 11,
   "metadata": {},
   "outputs": [
    {
     "name": "stdout",
     "output_type": "stream",
     "text": [
      "seed = 2020\n"
     ]
    },
    {
     "data": {
      "image/png": "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"
     },
     "execution_count": 11,
     "metadata": {},
     "output_type": "execute_result"
    }
   ],
   "source": [
    "# データ点のプロット\n",
    "x, t = load_data(seed=seed)\n",
    "N = 100\n",
    "CLS_NUM = 3\n",
    "markers = [:circle, :utriangle, :hexagon]\n",
    "for i in 0:CLS_NUM - 1\n",
    "    # 1つ目のクラスを描画\n",
    "    if i == 0\n",
    "        plot(x[(i * N) + 1:(i + 1) * N, 1], x[(i * N) + 1:(i + 1) * N, 2], st=:scatter, marker = markers[i + 1])\n",
    "    # 最後のクラスを描画する際に表示する\n",
    "    elseif i == CLS_NUM - 1　\n",
    "        plot!(x[(i * N) + 1:(i + 1) * N, 1], x[(i * N) + 1:(i + 1) * N, 2], st=:scatter, marker = markers[i + 1])\n",
    "    # 表示はせず，上書きとして描画する\n",
    "    else\n",
    "        plot!(x[(i * N) + 1:(i + 1) * N, 1], x[(i * N) + 1:(i + 1) * N, 2], st=:scatter, marker = markers[i + 1])\n",
    "    end\n",
    "end\n",
    "# 決定境界のプロット\n",
    "plot!(xx, yy, Z, st=:contour)"
   ]
>>>>>>> a3b914be1ffd97e8110d4ab90254a718078d024a
  }
 ],
 "metadata": {
  "kernelspec": {
   "display_name": "Julia 1.5.2",
   "language": "julia",
   "name": "julia-1.5"
  },
  "language_info": {
   "file_extension": ".jl",
   "mimetype": "application/julia",
   "name": "julia",
   "version": "1.5.2"
  }
 },
 "nbformat": 4,
 "nbformat_minor": 4
}
