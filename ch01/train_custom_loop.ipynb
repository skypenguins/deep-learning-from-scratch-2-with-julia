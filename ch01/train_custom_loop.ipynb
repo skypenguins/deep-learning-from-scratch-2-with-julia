{
 "cells": [
  {
   "cell_type": "markdown",
   "metadata": {},
   "source": [
    "### 1.4.3 学習用のソースコード"
   ]
  },
  {
   "cell_type": "code",
   "execution_count": 1,
   "metadata": {},
   "outputs": [
    {
     "name": "stdout",
     "output_type": "stream",
     "text": [
      "include(\"../common/optimizer.jl\") = Main.Optimizer\n",
      "include(\"../dataset/spiral.jl\") = Main.Spiral\n"
     ]
    },
    {
     "ename": "LoadError",
     "evalue": "LoadError: LoadError: LoadError: ArgumentError: Invalid use of @view macro: argument must be a reference expression A[...].\nin expression starting at /mnt/c/Users/Tsubasa Ono/OneDrive - Japan Advanced Institute of Science and Technology/julia_projects/deep_learning_from_scratch_2/common/layers.jl:106\nin expression starting at /mnt/c/Users/Tsubasa Ono/OneDrive - Japan Advanced Institute of Science and Technology/julia_projects/deep_learning_from_scratch_2/common/layers.jl:105\nin expression starting at /mnt/c/Users/Tsubasa Ono/OneDrive - Japan Advanced Institute of Science and Technology/julia_projects/deep_learning_from_scratch_2/ch01/two_layer_net.jl:4",
     "output_type": "error",
     "traceback": [
      "LoadError: LoadError: LoadError: ArgumentError: Invalid use of @view macro: argument must be a reference expression A[...].\nin expression starting at /mnt/c/Users/Tsubasa Ono/OneDrive - Japan Advanced Institute of Science and Technology/julia_projects/deep_learning_from_scratch_2/common/layers.jl:106\nin expression starting at /mnt/c/Users/Tsubasa Ono/OneDrive - Japan Advanced Institute of Science and Technology/julia_projects/deep_learning_from_scratch_2/common/layers.jl:105\nin expression starting at /mnt/c/Users/Tsubasa Ono/OneDrive - Japan Advanced Institute of Science and Technology/julia_projects/deep_learning_from_scratch_2/ch01/two_layer_net.jl:4",
      "",
      "Stacktrace:",
      " [1] @view(::LineNumberNode, ::Module, ::Any) at ./views.jl:123",
      " [2] include(::Function, ::Module, ::String) at ./Base.jl:380",
      " [3] include at ./Base.jl:368 [inlined]",
      " [4] include(::String) at /mnt/c/Users/Tsubasa Ono/OneDrive - Japan Advanced Institute of Science and Technology/julia_projects/deep_learning_from_scratch_2/ch01/two_layer_net.jl:1",
      " [5] top-level scope at /mnt/c/Users/Tsubasa Ono/OneDrive - Japan Advanced Institute of Science and Technology/julia_projects/deep_learning_from_scratch_2/ch01/two_layer_net.jl:4",
      " [6] include(::String) at ./client.jl:457",
      " [7] top-level scope at show.jl:641",
      " [8] include_string(::Function, ::Module, ::String, ::String) at ./loading.jl:1091"
     ]
    }
   ],
   "source": [
    "# モデル定義ファイルの読み込み\n",
    "@show include(\"../common/optimizer.jl\")\n",
    "@show include(\"../dataset/spiral.jl\")\n",
    "@show include(\"./two_layer_net.jl\")"
   ]
  },
  {
   "cell_type": "code",
   "execution_count": null,
   "metadata": {},
   "outputs": [],
   "source": [
    "# モジュールの読み込み\n",
    "using .Optimizer\n",
    "using .Spiral\n",
    "using .Two_layer_net\n",
    "using Random\n",
    "#using Plots"
   ]
  },
  {
   "cell_type": "code",
   "execution_count": null,
   "metadata": {},
   "outputs": [],
   "source": [
    "# ハイパーパラメータの設定\n",
    "max_epoch = 300\n",
    "batch_size = 30\n",
    "hidden_size = 10\n",
    "learning_rate = 1.0"
   ]
  },
  {
   "cell_type": "code",
   "execution_count": null,
   "metadata": {},
   "outputs": [],
   "source": [
    "x, t = load_data()\n",
    "@show typeof(x)\n",
    "@show typeof(t)\n",
    "model = TwoLayerNet(input_size=2, hidden_size=hidden_size, output_size=3)\n",
    "optimizer = SGD(lr=learning_rate)"
   ]
  },
  {
   "cell_type": "code",
   "execution_count": null,
   "metadata": {},
   "outputs": [],
   "source": [
    "# 学習で使用する変数\n",
    "data_size = size(x, 1)\n",
    "max_iters = data_size ÷ batch_size # 整数除算「÷」は「\\div」で入力 cf. https://docs.julialang.org/en/v1/manual/unicode-input/\n",
    "total_loss = 0\n",
    "loss_count = 0\n",
    "loss_list = []"
   ]
  },
  {
   "cell_type": "code",
   "execution_count": null,
   "metadata": {},
   "outputs": [],
   "source": [
    "# Jupyter(IJulia)上では，ローカルスコープ内からグローバルスコープの変数を変更できる(v1.5以降も同様)\n",
    "# REPLではなくパッケージでは，このコードは動作しない\n",
    "for epoch = 1:max_epoch\n",
    "    # データのシャッフル\n",
    "    idx = shuffle(1:data_size) # 1～data_sizeの範囲の一意な数値を要素に持つ要素数data_sizeのVectorを返す\n",
    "    x = x[idx, :]\n",
    "    t = t[idx, :]\n",
    "    \n",
    "    for iters = 0:max_iters-1\n",
    "        batch_x = x[(iters * batch_size) + 1:(iters + 1) * batch_size, :]\n",
    "        batch_t = t[(iters * batch_size) + 1:(iters + 1) * batch_size, :]\n",
    "        \n",
    "        #勾配を求め，パラメータを更新\n",
    "        loss = forward(model, batch_x, batch_t) # model.forward()\n",
    "        backward(model) # model.backward()\n",
    "        update(optimizer, model.params, model.grads)\n",
    "        \n",
    "        total_loss += loss\n",
    "        loss_count += 1\n",
    "        \n",
    "        # 定期的に学習経過を出力\n",
    "        if iters % 10 == 0\n",
    "            avg_loss = total_loss / loss_count\n",
    "            println(\"| epoch $epoch | iter $(iters + 1) / $max_iters | loss $(round(avg_loss, 2))\")\n",
    "            vcat(loss_list, avg_loss)\n",
    "            total_loss, loss_count = 0, 0\n",
    "        end\n",
    "    end\n",
    "end"
   ]
  },
  {
   "cell_type": "code",
   "execution_count": null,
   "metadata": {},
   "outputs": [],
   "source": []
  }
 ],
 "metadata": {
  "kernelspec": {
   "display_name": "Julia 1.5.2",
   "language": "julia",
   "name": "julia-1.5"
  },
  "language_info": {
   "file_extension": ".jl",
   "mimetype": "application/julia",
   "name": "julia",
   "version": "1.5.2"
  }
 },
 "nbformat": 4,
 "nbformat_minor": 4
}
